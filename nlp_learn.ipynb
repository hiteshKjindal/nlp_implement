{
 "cells": [
  {
   "cell_type": "code",
   "execution_count": 0,
   "metadata": {
    "application/vnd.databricks.v1+cell": {
     "cellMetadata": {
      "byteLimit": 2048000,
      "rowLimit": 10000
     },
     "inputWidgets": {},
     "nuid": "31ca8858-fc7e-44eb-a5a9-6e03da24e7cc",
     "showTitle": false,
     "tableResultSettingsMap": {},
     "title": ""
    }
   },
   "outputs": [],
   "source": [
    "import pandas as pd\n",
    "import numpy as np\n",
    "from scipy import stats"
   ]
  },
  {
   "cell_type": "code",
   "execution_count": 0,
   "metadata": {
    "application/vnd.databricks.v1+cell": {
     "cellMetadata": {
      "byteLimit": 2048000,
      "rowLimit": 10000
     },
     "inputWidgets": {},
     "nuid": "3bfca007-287a-4b27-ac5e-a16371ae4856",
     "showTitle": false,
     "tableResultSettingsMap": {},
     "title": ""
    }
   },
   "outputs": [],
   "source": [
    "import nltk\n",
    "from nltk.stem import PorterStemmer\n",
    "from nltk.corpus import stopwords\n"
   ]
  },
  {
   "cell_type": "code",
   "execution_count": 0,
   "metadata": {
    "application/vnd.databricks.v1+cell": {
     "cellMetadata": {
      "byteLimit": 2048000,
      "rowLimit": 10000
     },
     "inputWidgets": {},
     "nuid": "f95ec267-5b93-44b7-b05a-69366d1473b7",
     "showTitle": false,
     "tableResultSettingsMap": {},
     "title": ""
    }
   },
   "outputs": [],
   "source": [
    "paragraph=\"\"\"\n",
    "In June 1975, Prime Minister Indira Gandhi declared a state of emergency in India that lasted until 1977. During this period, known as \"the Emergency\", many of her political opponents were jailed and opposition groups were banned.[59][60] Modi was appointed general secretary of the \"Gujarat Lok Sangharsh Samiti\", an RSS committee coordinating opposition to the Emergency in Gujarat. Shortly afterwards, the RSS was banned.[61] Modi was forced to go underground in Gujarat and frequently travelled in disguise to avoid arrest, once dressing as a monk and once as a Sikh.[62] He became involved in the printing of pamphlets opposing the government, sending them to Delhi and organising demonstrations.[63][64] He was also involved with creating a network of safe houses for individuals who were wanted by the government, and in raising funds for political refugees and activists.[65] During this period, Modi wrote a Gujarati-language book titled Sangharsh Ma Gujarat (In the Struggles of Gujarat), which describes events during the Emergency.[66][67] While in this role, Modi met trade unionist and socialist activist George Fernandes and several other national political figures.[68]\n",
    "\n",
    "Modi became an RSS sambhag pracharak (regional organiser) in 1978, overseeing activities in Surat and Vadodara, and in 1979, he went to work for the RSS in Delhi, where he researched and wrote the RSS's history of the Emergency. Shortly after, he returned to Gujarat and in 1985, the RSS assigned him to the BJP. In 1987, Modi helped organise the BJP's campaign in the Ahmedabad municipal election, which the party won comfortably; according to biographers, Modi's planning was responsible for the win.[69][70] After L. K. Advani became president of the BJP in 1986, the RSS decided to place its members in important positions within the party; Modi's work during the Ahmedabad election led to his selection for this role. Modi was elected organising secretary of the BJP's Gujarat unit later in 1987.[71]\n",
    "\n",
    "\n",
    "Modi with Atal Bihari Vajpayee in c. 2001\n",
    "Modi rose within the party and was named a member of its National Election Committee in 1990, helping organise Advani's Ram Rath Yatra in 1990 and Murli Manohar Joshi's 1991–1992 Ekta Yatra (Journey for Unity).[20][72][73] Modi took a brief break from politics in 1992 to establish a school in Ahmedabad, and due to friction with Shankersinh Vaghela, a BJP MP from Gujarat.[73] Modi returned to electoral politics in 1994, partly at the insistence of Advani; as party secretary, Modi's electoral strategy was considered central to the BJP victory in the 1995 state assembly election.[74][75] In November of that year, Modi was appointed BJP national secretary and transferred to New Delhi, where he assumed responsibility for party activities in Haryana and Himachal Pradesh.[76] The following year, Shankersinh Vaghela, a prominent BJP leader from Gujarat, defected to the Indian National Congress[k] after losing his parliamentary seat in the Lok Sabha election.[20] Modi, who was on the selection committee for the 1998 Gujarat Legislative Assembly election, favoured supporters of BJP leader Keshubhai Patel over those supporting Vaghela to end factional division in the party. His strategy was credited as central to the BJP winning an overall majority in the 1998 election,[77] and Modi was promoted to BJP general secretary (organisation) in May of that year.[78]\n",
    "\n",
    "Chief Minister of Gujarat (2001–2014)\n",
    "Main article: Chief ministership of Narendra Modi\n",
    "Taking office\n",
    "In 2001, Keshubhai Patel's health was failing, and the BJP lost a few state assembly seats in by-elections. Allegations of abuse of power, corruption and poor administration were made, and Patel's standing had been damaged by his administration's handling of the earthquake in Bhuj in 2001.[77][79][80] The BJP national leadership sought a new candidate for the chief ministership, and Modi, who had expressed misgivings about Patel's administration, was chosen as a replacement.[20] Advani did not want to ostracise Patel and was concerned about Modi's lack of experience in government. Modi declined an offer to become Patel's deputy chief minister, telling Advani and Atal Bihari Vajpayee he was \"going to be fully responsible for Gujarat or not at all\". On 3 October 2001, Modi replaced Patel as Chief Minister of Gujarat with the responsibility of preparing the BJP for the upcoming December 2002 election.[81] On 7 October, Modi was sworn in[82] and he entered the Gujarat state legislature on 24 February 2002 after winning a by-election in Rajkot II constituency, defeating Ashwin Mehta of the INC after Vajubhai Vala vacated his seat.[83]\n",
    "\n",
    "2002 Gujarat riots\n",
    "Main article: 2002 Gujarat riots\n",
    "On 27 February 2002, a train with several hundred passengers burned near Godhra, killing approximately 60 people.[l][86] The train carried a large number of Hindu pilgrims who were returning from Ayodhya after a religious ceremony at the site of the demolished Babri Masjid.[87][88] In a public statement, Modi said local Muslims were responsible for the incident.[89][87][90] The next day, the Vishwa Hindu Parishad called for a bandh (general strike) across the state.[91][92] Riots began during the bandh and anti-Muslim violence spread through Gujarat.[87][91][92] The government's decision to move the bodies of the train victims from Godhra to Ahmedabad further inflamed the violence.[87][93] The state government later stated 790 Muslims and 254 Hindus were killed during the riots;[88] independent sources put the death toll at over 2,000,[87][86][94] the vast majority of them Muslims.[86] Approximately 150,000 people were driven to refugee camps.[95] Numerous women and children were among the victims; the violence included mass rapes and mutilation of women.[96][97]\n",
    "\"\"\""
   ]
  },
  {
   "cell_type": "code",
   "execution_count": 0,
   "metadata": {
    "application/vnd.databricks.v1+cell": {
     "cellMetadata": {
      "byteLimit": 2048000,
      "rowLimit": 10000
     },
     "inputWidgets": {},
     "nuid": "68c08a72-37b3-43bd-b572-69a1f2909e8d",
     "showTitle": false,
     "tableResultSettingsMap": {},
     "title": ""
    }
   },
   "outputs": [],
   "source": [
    "paragraph"
   ]
  },
  {
   "cell_type": "code",
   "execution_count": 0,
   "metadata": {
    "application/vnd.databricks.v1+cell": {
     "cellMetadata": {
      "byteLimit": 2048000,
      "rowLimit": 10000
     },
     "inputWidgets": {},
     "nuid": "c26938e2-6f5b-4d5d-b224-401abb03c273",
     "showTitle": false,
     "tableResultSettingsMap": {},
     "title": ""
    }
   },
   "outputs": [],
   "source": [
    "## tokenization\n",
    "nltk.download('punkt')\n",
    "nltk.download('punkt_tab')\n",
    "nltk.download('wordnet')\n",
    "nltk.download('stopwords')"
   ]
  },
  {
   "cell_type": "code",
   "execution_count": 0,
   "metadata": {
    "application/vnd.databricks.v1+cell": {
     "cellMetadata": {
      "byteLimit": 2048000,
      "rowLimit": 10000
     },
     "inputWidgets": {},
     "nuid": "fe230e8e-e715-49eb-ab6c-4c59c8c62300",
     "showTitle": false,
     "tableResultSettingsMap": {},
     "title": ""
    }
   },
   "outputs": [],
   "source": [
    "paragraph_sentences = nltk.sent_tokenize(paragraph)\n",
    "for i in paragraph_sentences:\n",
    "    print(i)\n"
   ]
  },
  {
   "cell_type": "code",
   "execution_count": 0,
   "metadata": {
    "application/vnd.databricks.v1+cell": {
     "cellMetadata": {
      "byteLimit": 2048000,
      "rowLimit": 10000
     },
     "inputWidgets": {},
     "nuid": "906460b8-705b-4ccb-b8ee-7c8016a75749",
     "showTitle": false,
     "tableResultSettingsMap": {},
     "title": ""
    }
   },
   "outputs": [],
   "source": [
    "type(paragraph_sentences)"
   ]
  },
  {
   "cell_type": "code",
   "execution_count": 0,
   "metadata": {
    "application/vnd.databricks.v1+cell": {
     "cellMetadata": {
      "byteLimit": 2048000,
      "rowLimit": 10000
     },
     "inputWidgets": {},
     "nuid": "3255e696-447e-4ef6-923a-327a9f5b44de",
     "showTitle": false,
     "tableResultSettingsMap": {},
     "title": ""
    }
   },
   "outputs": [],
   "source": [
    "stemmer= PorterStemmer()"
   ]
  },
  {
   "cell_type": "code",
   "execution_count": 0,
   "metadata": {
    "application/vnd.databricks.v1+cell": {
     "cellMetadata": {
      "byteLimit": 2048000,
      "rowLimit": 10000
     },
     "inputWidgets": {},
     "nuid": "850bc557-0931-42cb-9159-7a8a2814689d",
     "showTitle": false,
     "tableResultSettingsMap": {},
     "title": ""
    }
   },
   "outputs": [],
   "source": [
    "stemmer.stem('history')"
   ]
  },
  {
   "cell_type": "code",
   "execution_count": 0,
   "metadata": {
    "application/vnd.databricks.v1+cell": {
     "cellMetadata": {
      "byteLimit": 2048000,
      "rowLimit": 10000
     },
     "inputWidgets": {},
     "nuid": "b834ea71-779b-417b-ae33-a727153025cd",
     "showTitle": false,
     "tableResultSettingsMap": {},
     "title": ""
    }
   },
   "outputs": [],
   "source": [
    "from nltk.stem import WordNetLemmatizer\n",
    "lemmatizer = WordNetLemmatizer()\n",
    "lemmatizer.lemmatize('history')"
   ]
  },
  {
   "cell_type": "code",
   "execution_count": 0,
   "metadata": {
    "application/vnd.databricks.v1+cell": {
     "cellMetadata": {
      "byteLimit": 2048000,
      "rowLimit": 10000
     },
     "inputWidgets": {},
     "nuid": "2fe60045-a043-427b-b754-28023883d1f3",
     "showTitle": false,
     "tableResultSettingsMap": {},
     "title": ""
    }
   },
   "outputs": [],
   "source": [
    "import re\n",
    "corpus=[]\n",
    "for i in range(len(paragraph_sentences)):\n",
    "    review=re.sub('[^a-zA-Z]',\" \",paragraph_sentences[i])\n",
    "    review=review.lower()\n",
    "    review=[lemmatizer.lemmatize(word) for word in nltk.word_tokenize(review) if not word in set(stopwords.words('english'))]\n",
    "    review=' '.join(review)\n",
    "    corpus.append(review)"
   ]
  },
  {
   "cell_type": "code",
   "execution_count": 0,
   "metadata": {
    "application/vnd.databricks.v1+cell": {
     "cellMetadata": {
      "byteLimit": 2048000,
      "rowLimit": 10000
     },
     "inputWidgets": {},
     "nuid": "619b1a53-3ce3-4afd-840f-0b49a6a58fcf",
     "showTitle": false,
     "tableResultSettingsMap": {},
     "title": ""
    }
   },
   "outputs": [],
   "source": [
    "print(corpus)"
   ]
  },
  {
   "cell_type": "code",
   "execution_count": 0,
   "metadata": {
    "application/vnd.databricks.v1+cell": {
     "cellMetadata": {
      "byteLimit": 2048000,
      "rowLimit": 10000
     },
     "inputWidgets": {},
     "nuid": "1e7fdc57-6838-4660-a118-e7b1c927d273",
     "showTitle": false,
     "tableResultSettingsMap": {},
     "title": ""
    }
   },
   "outputs": [],
   "source": [
    "from sklearn.feature_extraction.text import CountVectorizer\n",
    "cv=CountVectorizer(max_features=1500,binary=True)\n",
    "X=cv.fit_transform(corpus)\n",
    "cv.vocabulary_"
   ]
  },
  {
   "cell_type": "code",
   "execution_count": 0,
   "metadata": {
    "application/vnd.databricks.v1+cell": {
     "cellMetadata": {
      "byteLimit": 2048000,
      "rowLimit": 10000
     },
     "inputWidgets": {},
     "nuid": "f8537d93-e067-4ee0-b49b-bbd4d10cc493",
     "showTitle": false,
     "tableResultSettingsMap": {},
     "title": ""
    }
   },
   "outputs": [],
   "source": [
    "(X[0].toarray())"
   ]
  },
  {
   "cell_type": "code",
   "execution_count": 0,
   "metadata": {
    "application/vnd.databricks.v1+cell": {
     "cellMetadata": {
      "byteLimit": 2048000,
      "rowLimit": 10000
     },
     "inputWidgets": {},
     "nuid": "beb3522b-c612-4afc-a83c-53464ae5b11b",
     "showTitle": false,
     "tableResultSettingsMap": {},
     "title": ""
    }
   },
   "outputs": [],
   "source": [
    "from sklearn.feature_extraction.text import TfidfVectorizer\n",
    "tfidf=TfidfVectorizer(max_features=1500,ngram_range=(3,3))\n",
    "X=tfidf.fit_transform(corpus)\n",
    "tfidf.vocabulary_"
   ]
  },
  {
   "cell_type": "code",
   "execution_count": 0,
   "metadata": {
    "application/vnd.databricks.v1+cell": {
     "cellMetadata": {
      "byteLimit": 2048000,
      "rowLimit": 10000
     },
     "inputWidgets": {},
     "nuid": "5b13df60-6d21-4c44-94f9-1052c72fc9b4",
     "showTitle": false,
     "tableResultSettingsMap": {},
     "title": ""
    }
   },
   "outputs": [],
   "source": [
    "(X[0].toarray())"
   ]
  },
  {
   "cell_type": "code",
   "execution_count": 0,
   "metadata": {
    "application/vnd.databricks.v1+cell": {
     "cellMetadata": {
      "byteLimit": 2048000,
      "rowLimit": 10000
     },
     "inputWidgets": {},
     "nuid": "96670ea1-6a7f-41f8-a861-a582788a852f",
     "showTitle": false,
     "tableResultSettingsMap": {},
     "title": ""
    }
   },
   "outputs": [],
   "source": [
    "kathan= \"\"\"\n",
    "neha pagal h\n",
    "ise kuch nahi aata\n",
    "is pagala ka kya kre\n",
    "ise kaun smjhaye\n",
    "\"\"\"\n",
    "\n",
    "kathan=[lemmatizer.lemmatize(word) for word in nltk.word_tokenize(kathan) if not word in set(stopwords.words('english'))]\n",
    "\n",
    "from sklearn.feature_extraction.text import CountVectorizer\n",
    "cv=CountVectorizer(max_features=1500,binary=True)\n",
    "X=cv.fit_transform(kathan)\n",
    "cv.vocabulary_\n",
    "cv.get_feature_names_out()\n"
   ]
  },
  {
   "cell_type": "code",
   "execution_count": 0,
   "metadata": {
    "application/vnd.databricks.v1+cell": {
     "cellMetadata": {
      "byteLimit": 2048000,
      "rowLimit": 10000
     },
     "inputWidgets": {},
     "nuid": "f2ac5cc9-7151-445e-824e-1980ea46e990",
     "showTitle": false,
     "tableResultSettingsMap": {},
     "title": ""
    }
   },
   "outputs": [],
   "source": []
  }
 ],
 "metadata": {
  "application/vnd.databricks.v1+notebook": {
   "computePreferences": {
    "hardware": {
     "accelerator": null,
     "gpuPoolId": null,
     "memory": null
    }
   },
   "dashboards": [],
   "environmentMetadata": {
    "base_environment": "",
    "environment_version": "3"
   },
   "inputWidgetPreferences": null,
   "language": "python",
   "notebookMetadata": {
    "pythonIndentUnit": 4
   },
   "notebookName": "nlp_learn",
   "widgets": {}
  },
  "language_info": {
   "name": "python"
  }
 },
 "nbformat": 4,
 "nbformat_minor": 0
}
